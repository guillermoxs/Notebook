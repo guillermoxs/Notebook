{
 "cells": [
  {
   "cell_type": "markdown",
   "id": "ec143866-1843-4fca-9629-5ff061f08aee",
   "metadata": {},
   "source": [
    "# Data Science Tools and Ecosystem\n"
   ]
  },
  {
   "cell_type": "markdown",
   "id": "d0adf24d-88a8-4d7d-973b-a32e9a91df54",
   "metadata": {},
   "source": [
    "In this notebook, Data Science Tools and Ecosystem are summarized."
   ]
  },
  {
   "cell_type": "markdown",
   "id": "7d3f7f50-ffa2-4276-a90f-113396d0f24e",
   "metadata": {},
   "source": [
    "Some of the popular languages that Data Scientists use are:\n",
    "1. Python\n",
    "2. R\n",
    "3. Java Script"
   ]
  },
  {
   "cell_type": "markdown",
   "id": "a57247a6-03a3-42c3-9e1d-36f76a8b4a81",
   "metadata": {},
   "source": [
    "Some of the commonly used libraries used by Data Scientists include:\n",
    "\n",
    "1. Numpy\n",
    "2. Matplotlib\n",
    "3. ggplot\n",
    "\n",
    "**Objectives:**\n",
    "* C++\n",
    "* Python\n",
    "* Java\n",
    "\n"
   ]
  },
  {
   "cell_type": "markdown",
   "id": "0881d654-4450-4180-9657-c7b885ec9aa5",
   "metadata": {},
   "source": [
    "| Data Science Tools |\n",
    "| ---------- |\n",
    "| Jupyter |\n",
    "| Rstudio |\n",
    "| Spyder | \n",
    "\n"
   ]
  },
  {
   "cell_type": "markdown",
   "id": "285374df-ce68-4a64-9839-7f73df095ac7",
   "metadata": {},
   "source": [
    "### Below are a few examples of evaluating arithmetic expressions in Python"
   ]
  },
  {
   "cell_type": "code",
   "execution_count": 5,
   "id": "24fd0a0c-1ab5-48fb-8e68-6fd650e5da4c",
   "metadata": {},
   "outputs": [
    {
     "data": {
      "text/plain": [
       "17"
      ]
     },
     "execution_count": 5,
     "metadata": {},
     "output_type": "execute_result"
    }
   ],
   "source": [
    "# This a simple arithmetic expression to mutiply then add integers\n",
    "\n",
    "(3*4)+5"
   ]
  },
  {
   "cell_type": "code",
   "execution_count": 7,
   "id": "812aee55-4a4c-4923-ab64-6ceb8756c27c",
   "metadata": {},
   "outputs": [
    {
     "data": {
      "text/plain": [
       "3.3333333333333335"
      ]
     },
     "execution_count": 7,
     "metadata": {},
     "output_type": "execute_result"
    }
   ],
   "source": [
    "# This will convert 200 minutes to hours by diving by 60\n",
    "\n",
    "200/60"
   ]
  },
  {
   "cell_type": "markdown",
   "id": "968a7b86-0de7-4b36-9080-a6ce722a6fd8",
   "metadata": {},
   "source": [
    "## Author \n",
    "Guillermo Cabello"
   ]
  }
 ],
 "metadata": {
  "kernelspec": {
   "display_name": "Python [conda env:base] *",
   "language": "python",
   "name": "conda-base-py"
  },
  "language_info": {
   "codemirror_mode": {
    "name": "ipython",
    "version": 3
   },
   "file_extension": ".py",
   "mimetype": "text/x-python",
   "name": "python",
   "nbconvert_exporter": "python",
   "pygments_lexer": "ipython3",
   "version": "3.12.7"
  }
 },
 "nbformat": 4,
 "nbformat_minor": 5
}
